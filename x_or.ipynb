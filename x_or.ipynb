{
  "nbformat": 4,
  "nbformat_minor": 0,
  "metadata": {
    "colab": {
      "name": "x-or.ipynb",
      "provenance": [],
      "authorship_tag": "ABX9TyMQOGarYUFQic6/Vdgaf1gl",
      "include_colab_link": true
    },
    "kernelspec": {
      "name": "python3",
      "display_name": "Python 3"
    }
  },
  "cells": [
    {
      "cell_type": "markdown",
      "metadata": {
        "id": "view-in-github",
        "colab_type": "text"
      },
      "source": [
        "<a href=\"https://colab.research.google.com/github/narayanarajvj/Machine-Learning-Basics/blob/master/x_or.ipynb\" target=\"_parent\"><img src=\"https://colab.research.google.com/assets/colab-badge.svg\" alt=\"Open In Colab\"/></a>"
      ]
    },
    {
      "cell_type": "code",
      "metadata": {
        "id": "6RhxQCGYERVZ",
        "colab_type": "code",
        "colab": {}
      },
      "source": [
        "import numpy as np\n",
        "import pandas as pd\n",
        "import matplotlib.pyplot as plt\n",
        "from sklearn.model_selection import train_test_split\n",
        "\n",
        "%matplotlib inline"
      ],
      "execution_count": 0,
      "outputs": []
    },
    {
      "cell_type": "code",
      "metadata": {
        "id": "CP6KAcHmEnfX",
        "colab_type": "code",
        "colab": {}
      },
      "source": [
        "input_data = np.array([[0,0,0],\n",
        "                      [0,1,0],\n",
        "                      [0,0,1],\n",
        "                      [1,1,0],\n",
        "                      [1,0,1],\n",
        "                      [1,1,1]])"
      ],
      "execution_count": 0,
      "outputs": []
    },
    {
      "cell_type": "code",
      "metadata": {
        "id": "Hpbuv2MnE8Dr",
        "colab_type": "code",
        "colab": {}
      },
      "source": [
        "output_data = np.array([[0],\n",
        "                        [1],\n",
        "                        [1],\n",
        "                        [0],\n",
        "                        [0],\n",
        "                        [1]])"
      ],
      "execution_count": 0,
      "outputs": []
    },
    {
      "cell_type": "code",
      "metadata": {
        "id": "0J71bQT8FYqD",
        "colab_type": "code",
        "colab": {}
      },
      "source": [
        "def sigmoid(x):\n",
        "  return (1)/(1+np.exp(-x))"
      ],
      "execution_count": 0,
      "outputs": []
    },
    {
      "cell_type": "code",
      "metadata": {
        "id": "c9zXbT_aFgCC",
        "colab_type": "code",
        "colab": {}
      },
      "source": [
        "def dsigmoid(x):\n",
        "  return x*(1-x)"
      ],
      "execution_count": 0,
      "outputs": []
    },
    {
      "cell_type": "code",
      "metadata": {
        "id": "j-Ljc4GRFmxO",
        "colab_type": "code",
        "colab": {}
      },
      "source": [
        "np.random.seed(1)\n",
        "w0 = np.random.random((3,2))-1\n",
        "w1 = np.random.random((2,1))-1\n",
        "\n",
        "b0 = np.random.random((1,1))-1\n",
        "b1 = np.random.random((1,1))-1"
      ],
      "execution_count": 0,
      "outputs": []
    },
    {
      "cell_type": "code",
      "metadata": {
        "id": "Zc6TBs_8UY-q",
        "colab_type": "code",
        "colab": {}
      },
      "source": [
        "w0"
      ],
      "execution_count": 0,
      "outputs": []
    },
    {
      "cell_type": "code",
      "metadata": {
        "id": "KdRxvdflGAE7",
        "colab_type": "code",
        "colab": {}
      },
      "source": [
        "def feed_forward(data_in,w0,w1,b0,b1):\n",
        "  layer0 = data_in\n",
        "  layer1 = sigmoid(np.dot(layer0,w0)+b0)\n",
        "  layer2 = sigmoid(np.dot(layer1,w1)+b1)\n",
        "  return layer0, layer1, layer2"
      ],
      "execution_count": 0,
      "outputs": []
    },
    {
      "cell_type": "code",
      "metadata": {
        "id": "SKgYJURtGfBI",
        "colab_type": "code",
        "colab": {}
      },
      "source": [
        "def back_propagation(layer0,layer1,layer2,actual_y,w0,w1,b0,b1,learning_rate,i):\n",
        "  l2_error = layer2 - actual_y\n",
        "  l2_delta = l2_error * dsigmoid(layer2)\n",
        "  dh2 = np.dot(layer1.T, l2_delta)\n",
        "\n",
        "  l1_error = np.dot(l2_delta, w1.T)\n",
        "  l1_delta = l1_error * dsigmoid(layer1)\n",
        "  dh1 = np.dot(layer0.T,l1_delta)\n",
        "\n",
        "  w1 = w1 - (learning_rate * dh2)\n",
        "  w0 = w0 - (learning_rate * dh1)\n",
        "\n",
        "  b1 = b1 - (learning_rate * np.mean(l2_delta))\n",
        "  b0 = b0 - (learning_rate * np.mean(l1_delta))\n",
        "\n",
        "  if i%1==0 and (i!=0):\n",
        "    loss = np.mean(np.power(layer2 - actual_y,2))\n",
        "    loss_curve.append(loss)\n",
        "    iters.append(int(i))\n",
        "\n",
        "    if i%100==0:\n",
        "      print('\\n',int(i),loss)\n",
        "  return w0,w1,b1,b0 "
      ],
      "execution_count": 0,
      "outputs": []
    },
    {
      "cell_type": "code",
      "metadata": {
        "id": "DuHrr2NfLsLT",
        "colab_type": "code",
        "colab": {}
      },
      "source": [
        "def accuracy(testx,testy):\n",
        "  correct = 0\n",
        "  layer0,layer1,layer2 = feed_forward(testx,w0,w1,b0,b1)\n",
        "  for i in range(len(testx)):\n",
        "    if np.argmax(layer2[i])==np.argmax(testy[1]):\n",
        "      correct+=1\n",
        "  return f\"Accuracy: {correct * 100/len(testy)}\"\n",
        "      "
      ],
      "execution_count": 0,
      "outputs": []
    },
    {
      "cell_type": "code",
      "metadata": {
        "id": "e8eKZHiAMlQb",
        "colab_type": "code",
        "colab": {}
      },
      "source": [
        "epochs = 10\n",
        "loss_curve = []\n",
        "iters = []"
      ],
      "execution_count": 0,
      "outputs": []
    },
    {
      "cell_type": "code",
      "metadata": {
        "id": "oyP9fEfVM_od",
        "colab_type": "code",
        "colab": {}
      },
      "source": [
        "for i in range(epochs):\n",
        "  layer0,layer1,layer2 = feed_forward(input_data,w0,w1,b0,b1)\n",
        "  w0,w1,b0,b1 = back_propagation(layer0,layer1,layer2,output_data,w0,w1,b0,b1,0.01,i)"
      ],
      "execution_count": 0,
      "outputs": []
    },
    {
      "cell_type": "code",
      "metadata": {
        "id": "kl6jqLX6Nj0O",
        "colab_type": "code",
        "outputId": "8e0fe083-60f3-4299-ef55-583806895e2a",
        "colab": {
          "base_uri": "https://localhost:8080/",
          "height": 286
        }
      },
      "source": [
        "plt.plot(iters,loss_curve)"
      ],
      "execution_count": 0,
      "outputs": [
        {
          "output_type": "execute_result",
          "data": {
            "text/plain": [
              "[<matplotlib.lines.Line2D at 0x7efeed77f978>]"
            ]
          },
          "metadata": {
            "tags": []
          },
          "execution_count": 99
        },
        {
          "output_type": "display_data",
          "data": {
            "image/png": "[encoded data removed]",
            "text/plain": [
              "<Figure size 432x288 with 1 Axes>"
            ]
          },
          "metadata": {
            "tags": []
          }
        }
      ]
    },
    {
      "cell_type": "code",
      "metadata": {
        "id": "wFA5JnWfNpC9",
        "colab_type": "code",
        "outputId": "c0869932-12ca-43fe-9819-4c452d686561",
        "colab": {
          "base_uri": "https://localhost:8080/",
          "height": 34
        }
      },
      "source": [
        "accuracy(input_data,output_data)"
      ],
      "execution_count": 0,
      "outputs": [
        {
          "output_type": "execute_result",
          "data": {
            "text/plain": [
              "'Accuracy: 100.0'"
            ]
          },
          "metadata": {
            "tags": []
          },
          "execution_count": 100
        }
      ]
    }
  ]
}